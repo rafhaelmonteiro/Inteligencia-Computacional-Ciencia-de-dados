{
 "cells": [
  {
   "cell_type": "markdown",
   "id": "5bfdac4f",
   "metadata": {},
   "source": [
    "![](../../assets/Captura%20de%20Tela%202025-04-27%20às%2019.44.55.g)"
   ]
  },
  {
   "cell_type": "markdown",
   "id": "371d4295",
   "metadata": {},
   "source": [
    "# C: p-value em um Teste de Hipótese\n",
    "\n",
    "Forneça dois conjuntos de dados: um para um grupo de controle e outro para um grupo de teste.\n",
    "\n",
    "Formule a hipótese nula.\n",
    "\n",
    "Realizar um teste t de duas amostras usando scipy.stats.ttest_ind.\n",
    "\n",
    "Interpretar o p-value resultante e decidir se rejeitam a hipótese nula em um nível de significância dado (por exemplo, 0,05)."
   ]
  },
  {
   "cell_type": "code",
   "execution_count": 7,
   "id": "8c520b62",
   "metadata": {},
   "outputs": [],
   "source": [
    "import numpy as np\n",
    "from scipy.stats import ttest_ind"
   ]
  },
  {
   "cell_type": "markdown",
   "id": "f579d57a",
   "metadata": {},
   "source": [
    "# Criar grupo de controle e grupo de teste"
   ]
  },
  {
   "cell_type": "code",
   "execution_count": 11,
   "id": "7c920aeb",
   "metadata": {},
   "outputs": [],
   "source": [
    "controle = np.random.normal(70, 10, 30)\n",
    "teste = np.random.normal(75, 10, 30)"
   ]
  },
  {
   "cell_type": "markdown",
   "id": "7e5cba57",
   "metadata": {},
   "source": [
    "# Hipotese Nula H0: As Médias dos 2 grupos sao iguais"
   ]
  },
  {
   "cell_type": "markdown",
   "id": "c4fc8289",
   "metadata": {},
   "source": [
    "# Realizar o Teste t das duas amostras e calcular o P-Value"
   ]
  },
  {
   "cell_type": "code",
   "execution_count": 14,
   "id": "c370266a",
   "metadata": {},
   "outputs": [
    {
     "name": "stdout",
     "output_type": "stream",
     "text": [
      "p-value = 0.0124\n"
     ]
    }
   ],
   "source": [
    "t_stat, p_value = ttest_ind(teste, controle)\n",
    "print(f\"p-value = {p_value:.4f}\")"
   ]
  },
  {
   "cell_type": "markdown",
   "id": "03e3bc23",
   "metadata": {},
   "source": [
    "# Condicional para interpretar o p-value e decidir se rejeitam a hipótese nula"
   ]
  },
  {
   "cell_type": "code",
   "execution_count": 15,
   "id": "c89ea87b",
   "metadata": {},
   "outputs": [
    {
     "name": "stdout",
     "output_type": "stream",
     "text": [
      "Rejeita-se H₀: há diferença significativa.\n"
     ]
    }
   ],
   "source": [
    "if p_value < 0.05:\n",
    "    print(\"Rejeita-se H₀: há diferença significativa.\")\n",
    "else:\n",
    "    print(\"Não se rejeita H₀: não há diferença significativa.\")\n"
   ]
  }
 ],
 "metadata": {
  "kernelspec": {
   "display_name": "Python 3",
   "language": "python",
   "name": "python3"
  },
  "language_info": {
   "codemirror_mode": {
    "name": "ipython",
    "version": 3
   },
   "file_extension": ".py",
   "mimetype": "text/x-python",
   "name": "python",
   "nbconvert_exporter": "python",
   "pygments_lexer": "ipython3",
   "version": "3.10.10"
  }
 },
 "nbformat": 4,
 "nbformat_minor": 5
}
