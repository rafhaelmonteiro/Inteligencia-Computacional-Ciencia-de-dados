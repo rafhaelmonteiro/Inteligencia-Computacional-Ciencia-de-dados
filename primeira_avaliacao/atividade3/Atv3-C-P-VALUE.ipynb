{
 "cells": [
  {
   "cell_type": "markdown",
   "id": "5bfdac4f",
   "metadata": {},
   "source": [
    "![](../../assets/Captura%20de%20Tela%202025-05-02%20às%2016.00.09.png)"
   ]
  },
  {
   "cell_type": "code",
   "execution_count": 6,
   "id": "96d89db6",
   "metadata": {},
   "outputs": [],
   "source": [
    "from math import comb"
   ]
  },
  {
   "cell_type": "markdown",
   "id": "f4a9a2ae",
   "metadata": {},
   "source": [
    "# Total de lançamentos da moeda"
   ]
  },
  {
   "cell_type": "code",
   "execution_count": 16,
   "id": "6ec38f06",
   "metadata": {},
   "outputs": [],
   "source": [
    "n = 5"
   ]
  },
  {
   "cell_type": "markdown",
   "id": "159db98a",
   "metadata": {},
   "source": [
    "# Probabilidade de cair cara sob hipótese nula (moeda moeda nao é especial)\n",
    "![](../../assets/Captura%20de%20Tela%202025-05-03%20às%2022.18.37.png)\n"
   ]
  },
  {
   "cell_type": "code",
   "execution_count": 15,
   "id": "ecbe360e",
   "metadata": {},
   "outputs": [],
   "source": [
    "p_cara = 0.5"
   ]
  },
  {
   "cell_type": "markdown",
   "id": "f298a5a8",
   "metadata": {},
   "source": [
    "# Total de possibilidades possíveis, combinaçoes de resultado (0 a 5 caras)\n",
    "![](../../assets/Captura%20de%20Tela%202025-05-04%20às%2001.49.06.png)"
   ]
  },
  {
   "cell_type": "code",
   "execution_count": 17,
   "id": "bc2a671b",
   "metadata": {},
   "outputs": [],
   "source": [
    "# Cada quantidade de caras tem um número de combinações\n",
    "combinacoes = {\n",
    "    0: 1,   # 0 caras = 5 coroas\n",
    "    1: 5,   # 1 cara  e 4 coroas\n",
    "    2: 10,  # 2 caras e 3 coroas\n",
    "    3: 10,  # 3 caras e 2 coroas\n",
    "    4: 5,   # 4 caras e 1 coroa\n",
    "    5: 1    # 5 caras\n",
    "}\n",
    "\n",
    "# Total de possibilidades é 2^5 = 32\n",
    "total_possibilidades = 2 ** n"
   ]
  },
  {
   "cell_type": "code",
   "execution_count": 8,
   "id": "9bee2852",
   "metadata": {},
   "outputs": [],
   "source": [
    "# Evento observado: 4 caras e 1 coroa\n",
    "# Queremos o p-valor = P(4 caras) + P(5 caras) + P(1 cara) + P(5 Coroas)\n",
    "eventos_relevantes = [0, 1, 4, 5]  # resultados igualmente ou mais raros\n",
    "\n",
    "# Soma das probabilidades desses eventos\n",
    "p_valor = sum(combinacoes[k] / total_possibilidades for k in eventos_relevantes)"
   ]
  },
  {
   "cell_type": "code",
   "execution_count": 11,
   "id": "415ab0a3",
   "metadata": {},
   "outputs": [
    {
     "name": "stdout",
     "output_type": "stream",
     "text": [
      "Hipótese nula H0: a moeda não é especial\n",
      "Probabilidade de cair Cara (P(cara) = 0.5)\n",
      "Evento observado: 4 caras e 1 coroa\n",
      "Total de possibilidades: 32\n",
      "Eventos tão raros ou mais raros que 4 caras:\n",
      "- 0 caras: 1 combinações → P = 0.0312\n",
      "- 1 caras: 5 combinações → P = 0.1562\n",
      "- 4 caras: 5 combinações → P = 0.1562\n",
      "- 5 caras: 1 combinações → P = 0.0312\n",
      "\n",
      "p-valor = soma das probabilidades = 0.3750\n",
      "→ p-valor ≥ 0.05: Não rejeitamos a hipótese nula. A moeda parece ser normal.\n"
     ]
    }
   ],
   "source": [
    "print(\"Hipótese nula H0: a moeda não é especial\")\n",
    "print(\"Probabilidade de cair Cara (P(cara) = 0.5)\")\n",
    "print(\"Evento observado: 4 caras e 1 coroa\")\n",
    "print(f\"Total de possibilidades: {total_possibilidades}\")\n",
    "print(\"Eventos tão raros ou mais raros que 4 caras:\")\n",
    "\n",
    "for k in eventos_relevantes:\n",
    "    prob = combinacoes[k] / total_possibilidades\n",
    "    print(f\"- {k} caras: {combinacoes[k]} combinações → P = {prob:.4f}\")\n",
    "\n",
    "print(f\"\\np-valor = soma das probabilidades = {p_valor:.4f}\")\n",
    "\n",
    "# Verificação da hipótese nula\n",
    "if p_valor < 0.05:\n",
    "    print(\"→ p-valor < 0.05: Rejeitamos a hipótese nula. A moeda parece ser especial.\")\n",
    "else:\n",
    "    print(\"→ p-valor ≥ 0.05: Não rejeitamos a hipótese nula. A moeda parece ser normal.\")\n"
   ]
  }
 ],
 "metadata": {
  "kernelspec": {
   "display_name": "Python 3",
   "language": "python",
   "name": "python3"
  },
  "language_info": {
   "codemirror_mode": {
    "name": "ipython",
    "version": 3
   },
   "file_extension": ".py",
   "mimetype": "text/x-python",
   "name": "python",
   "nbconvert_exporter": "python",
   "pygments_lexer": "ipython3",
   "version": "3.10.10"
  }
 },
 "nbformat": 4,
 "nbformat_minor": 5
}
