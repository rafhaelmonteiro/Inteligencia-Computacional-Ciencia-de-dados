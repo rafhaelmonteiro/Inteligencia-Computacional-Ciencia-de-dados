{
  "cells": [
    {
      "cell_type": "code",
      "execution_count": 1,
      "metadata": {
        "id": "mhVlWswypAhU"
      },
      "outputs": [],
      "source": [
        "import numpy as np\n",
        "import matplotlib.pyplot as plt\n",
        "from scipy.stats import binom"
      ]
    },
    {
      "cell_type": "markdown",
      "metadata": {
        "id": "gl6cPaPEpboE"
      },
      "source": [
        "# Adicionando Seed de produçao dos dados"
      ]
    },
    {
      "cell_type": "code",
      "execution_count": 2,
      "metadata": {
        "id": "IZzlU9CGphZy"
      },
      "outputs": [],
      "source": [
        "np.random.seed(42)  "
      ]
    },
    {
      "cell_type": "markdown",
      "metadata": {
        "id": "8qDo2nC6pjaU"
      },
      "source": [
        "# Simulando S=0.80, Quantidade de tentativas = 50 e Definindo 10 amostras"
      ]
    },
    {
      "cell_type": "code",
      "execution_count": 3,
      "metadata": {
        "id": "2AzsI7rlpDAd"
      },
      "outputs": [],
      "source": [
        "  s = 0.80\n",
        "  n_trials = 10\n",
        "  total_samples = 10"
      ]
    },
    {
      "cell_type": "markdown",
      "metadata": {
        "id": "odW2jEnQqG2e"
      },
      "source": [
        "# Fazendo o cálculo usando a equação."
      ]
    },
    {
      "cell_type": "code",
      "execution_count": null,
      "metadata": {
        "id": "-xrIc1iBqKRj"
      },
      "outputs": [],
      "source": [
        "samples = np.random.rand(total_samples, n_trials)\n",
        "successes = np.sum(samples <= s, axis=1)\n",
        "\n",
        "x_values = np.arange(0, n_trials + 1)\n",
        "p = s  # Probabilidade de sucesso\n",
        "q = 1 - p  # Probabilidade de falha\n",
        "binomial_probs = [binom.pmf(x, n_trials, p) for x in x_values]"
      ]
    },
    {
      "cell_type": "code",
      "execution_count": null,
      "metadata": {
        "colab": {
          "base_uri": "https://localhost:8080/"
        },
        "id": "08PWWyfFqw46",
        "outputId": "77406d97-abf6-48b6-a4b0-2f4bcec6f614"
      },
      "outputs": [
        {
          "name": "stdout",
          "output_type": "stream",
          "text": [
            "Amostra 1: Valores = [0.37 0.95 0.73 0.6  0.16 0.16 0.06 0.87 0.6  0.71]\n",
            "Sucessos: 8 (Valores <= 0.8)\n",
            "\n",
            "Amostra 2: Valores = [0.02 0.97 0.83 0.21 0.18 0.18 0.3  0.52 0.43 0.29]\n",
            "Sucessos: 8 (Valores <= 0.8)\n",
            "\n",
            "Amostra 3: Valores = [0.61 0.14 0.29 0.37 0.46 0.79 0.2  0.51 0.59 0.05]\n",
            "Sucessos: 10 (Valores <= 0.8)\n",
            "\n",
            "Amostra 4: Valores = [0.61 0.17 0.07 0.95 0.97 0.81 0.3  0.1  0.68 0.44]\n",
            "Sucessos: 7 (Valores <= 0.8)\n",
            "\n",
            "Amostra 5: Valores = [0.12 0.5  0.03 0.91 0.26 0.66 0.31 0.52 0.55 0.18]\n",
            "Sucessos: 9 (Valores <= 0.8)\n",
            "\n",
            "Amostra 6: Valores = [0.97 0.78 0.94 0.89 0.6  0.92 0.09 0.2  0.05 0.33]\n",
            "Sucessos: 6 (Valores <= 0.8)\n",
            "\n",
            "Amostra 7: Valores = [0.39 0.27 0.83 0.36 0.28 0.54 0.14 0.8  0.07 0.99]\n",
            "Sucessos: 7 (Valores <= 0.8)\n",
            "\n",
            "Amostra 8: Valores = [0.77 0.2  0.01 0.82 0.71 0.73 0.77 0.07 0.36 0.12]\n",
            "Sucessos: 9 (Valores <= 0.8)\n",
            "\n",
            "Amostra 9: Valores = [0.86 0.62 0.33 0.06 0.31 0.33 0.73 0.64 0.89 0.47]\n",
            "Sucessos: 8 (Valores <= 0.8)\n",
            "\n",
            "Amostra 10: Valores = [0.12 0.71 0.76 0.56 0.77 0.49 0.52 0.43 0.03 0.11]\n",
            "Sucessos: 10 (Valores <= 0.8)\n",
            "\n"
          ]
        }
      ],
      "source": [
        "for i in range(total_samples):\n",
        "    print(f\"Amostra {i+1}: Valores = {np.round(samples[i], 2)}\")\n",
        "    print(f\"Sucessos: {successes[i]} (Valores <= {s})\\n\")"
      ]
    },
    {
      "cell_type": "markdown",
      "metadata": {
        "id": "-P44TZxgMLqj"
      },
      "source": [
        "# Histograma das 10 primeiras amostras"
      ]
    },
    {
      "cell_type": "code",
      "execution_count": null,
      "metadata": {
        "colab": {
          "base_uri": "https://localhost:8080/",
          "height": 490
        },
        "id": "nFlBKlbSzZZK",
        "outputId": "a5babd41-c1a2-47fc-9333-9af205d99658"
      },
      "outputs": [
        {
          "data": {
            "text/plain": [
              "Text(0, 0.5, 'Frequência')"
            ]
          },
          "execution_count": 28,
          "metadata": {},
          "output_type": "execute_result"
        },
        {
          "data": {
            "image/png": "[encoded data removed]",
            "text/plain": [
              "<Figure size 640x480 with 1 Axes>"
            ]
          },
          "metadata": {},
          "output_type": "display_data"
        }
      ],
      "source": [
        "plt.bar(x_values, np.bincount(successes, minlength=n_trials+1), color='skyblue', alpha=0.7)\n",
        "plt.title(f'Histograma (s = {s}) - 10 Amostras')\n",
        "plt.xlabel('Número de Sucessos')\n",
        "plt.ylabel('Frequência')\n"
      ]
    },
    {
      "cell_type": "markdown",
      "metadata": {
        "id": "3OGzy__IMaTC"
      },
      "source": [
        "# Comparação com s = 0.95"
      ]
    },
    {
      "cell_type": "code",
      "execution_count": null,
      "metadata": {
        "colab": {
          "base_uri": "https://localhost:8080/"
        },
        "id": "D0P6HkfBMTAv",
        "outputId": "5e225f41-e307-4893-8e20-7e18f12eb6d2"
      },
      "outputs": [
        {
          "name": "stdout",
          "output_type": "stream",
          "text": [
            "\n",
            "=== Comparação com s = 0.95 ===\n",
            "Sucessos para s=0.80: [ 8  8 10  7  9  6  7  9  8 10]\n",
            "Sucessos para s=0.95: [ 9  9 10  9 10  9  9 10 10 10]\n",
            "\n",
            "Observação: Para s=0.95, espera-se mais sucessos por amostra (valores <= 0.95 são mais frequentes).\n"
          ]
        }
      ],
      "source": [
        "s_95 = 0.95\n",
        "successes_95 = np.sum(samples <= s_95, axis=1)\n",
        "\n",
        "print(\"\\n=== Comparação com s = 0.95 ===\")\n",
        "print(f\"Sucessos para s=0.80: {successes}\")\n",
        "print(f\"Sucessos para s=0.95: {successes_95}\")\n",
        "print(\"\\nObservação: Para s=0.95, espera-se mais sucessos por amostra (valores <= 0.95 são mais frequentes).\")"
      ]
    }
  ],
  "metadata": {
    "colab": {
      "provenance": []
    },
    "kernelspec": {
      "display_name": "Python 3",
      "name": "python3"
    },
    "language_info": {
      "codemirror_mode": {
        "name": "ipython",
        "version": 3
      },
      "file_extension": ".py",
      "mimetype": "text/x-python",
      "name": "python",
      "nbconvert_exporter": "python",
      "pygments_lexer": "ipython3",
      "version": "3.10.10"
    }
  },
  "nbformat": 4,
  "nbformat_minor": 0
}
