{
 "cells": [
  {
   "cell_type": "markdown",
   "id": "5bfdac4f",
   "metadata": {},
   "source": [
    "![](../../assets/Captura%20de%20Tela%202025-04-27%20às%2019.44.55.png)"
   ]
  },
  {
   "cell_type": "markdown",
   "id": "d5031415",
   "metadata": {},
   "source": []
  }
 ],
 "metadata": {
  "language_info": {
   "name": "python"
  }
 },
 "nbformat": 4,
 "nbformat_minor": 5
}
